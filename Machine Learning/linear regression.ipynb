{
 "cells": [
  {
   "cell_type": "code",
   "execution_count": 1,
   "metadata": {
    "collapsed": true
   },
   "outputs": [],
   "source": [
    "import tensorflow as tf"
   ]
  },
  {
   "cell_type": "code",
   "execution_count": 5,
   "metadata": {},
   "outputs": [
    {
     "name": "stdout",
     "output_type": "stream",
     "text": [
      "Tensor(\"Add_1:0\", shape=(), dtype=int32)\n"
     ]
    }
   ],
   "source": [
    "# TensorBoard can visualize the graph\n",
    "# one node has been created as a\n",
    "a = tf.add(2,3)\n",
    "print(a)"
   ]
  },
  {
   "cell_type": "code",
   "execution_count": 6,
   "metadata": {},
   "outputs": [
    {
     "name": "stdout",
     "output_type": "stream",
     "text": [
      "5\n"
     ]
    }
   ],
   "source": [
    "# sess.run would run all the computation before the node to get the final answer\n",
    "sess = tf.Session()\n",
    "print(sess.run(a))\n",
    "sess.close()"
   ]
  },
  {
   "cell_type": "code",
   "execution_count": 7,
   "metadata": {},
   "outputs": [
    {
     "name": "stdout",
     "output_type": "stream",
     "text": [
      "5\n"
     ]
    }
   ],
   "source": [
    "# A Session object encapsulates the enviroment in which Operation objects are executed, and Tensor objects \n",
    "# are evaluated\n",
    "with tf.Session() as sess:\n",
    "    print(sess.run(a))"
   ]
  },
  {
   "cell_type": "code",
   "execution_count": 14,
   "metadata": {},
   "outputs": [
    {
     "name": "stdout",
     "output_type": "stream",
     "text": [
      "7776\n"
     ]
    }
   ],
   "source": [
    "# see one graph, it won't calculate the unnecessary operate, that's efficient.\n",
    "x = 2\n",
    "y = 3\n",
    "op1 = tf.add(x,y)\n",
    "op2 = tf.multiply(x,y)\n",
    "op3 = tf.pow(op2,op1)\n",
    "with tf.Session() as sess:\n",
    "    op3,op2 = sess.run([op3,op1])\n",
    "    print(op3)"
   ]
  },
  {
   "cell_type": "code",
   "execution_count": null,
   "metadata": {
    "collapsed": true
   },
   "outputs": [],
   "source": [
    "# pass all variables whose vlaue you want to a list in fetches. \n",
    "# tf.Session.run(fetches,feed_dict=None,options=None,run_metadate=None)"
   ]
  },
  {
   "cell_type": "code",
   "execution_count": 2,
   "metadata": {},
   "outputs": [
    {
     "name": "stdout",
     "output_type": "stream",
     "text": [
      "5\n"
     ]
    }
   ],
   "source": [
    "# Visualize it with TensorBoard\n",
    "a = tf.constant(2,name = \"a\")\n",
    "b = tf.constant(3,name = \"b\")\n",
    "x = tf.add(a,b, name = \"add\")\n",
    "writer = tf.summary.FileWriter('./graphs', sess.graph)\n",
    "writer.close()\n",
    "with tf.Session() as sess:\n",
    "    # add this line to use TensorBoard\n",
    "    print(sess.run(x))\n",
    "# in cmd: $tensorboard --logdir=\"./graphs\" --port 6006"
   ]
  },
  {
   "cell_type": "code",
   "execution_count": 6,
   "metadata": {},
   "outputs": [],
   "source": [
    "# more constants\n",
    "#tf.constant(value,dtype=None,shape=None,name='Const',verify_shape=False)\n",
    "a = tf.constant(2,shape=[2,2],verify_shape=False)"
   ]
  },
  {
   "cell_type": "code",
   "execution_count": 9,
   "metadata": {},
   "outputs": [
    {
     "data": {
      "text/plain": [
       "array([[2, 2],\n",
       "       [2, 2]], dtype=int32)"
      ]
     },
     "execution_count": 9,
     "metadata": {},
     "output_type": "execute_result"
    }
   ],
   "source": [
    "# because of the shape, it will replicate the last value\n",
    "tf.InteractiveSession()\n",
    "a.eval()"
   ]
  },
  {
   "cell_type": "code",
   "execution_count": 10,
   "metadata": {},
   "outputs": [
    {
     "data": {
      "text/plain": [
       "array([[2, 1, 1],\n",
       "       [1, 1, 1],\n",
       "       [1, 1, 1]], dtype=int32)"
      ]
     },
     "execution_count": 10,
     "metadata": {},
     "output_type": "execute_result"
    }
   ],
   "source": [
    "b = tf.constant([2,1],shape=[3,3])\n",
    "b.eval()"
   ]
  },
  {
   "cell_type": "code",
   "execution_count": 15,
   "metadata": {},
   "outputs": [
    {
     "data": {
      "text/plain": [
       "array([[2, 3],\n",
       "       [4, 5]], dtype=int32)"
      ]
     },
     "execution_count": 15,
     "metadata": {},
     "output_type": "execute_result"
    }
   ],
   "source": [
    "a = tf.constant([2,2],name=\"a\")\n",
    "b = tf.constant([[0,1],[2,3]],name=\"b\")\n",
    "x = tf.add(a,b,name = \"add\")\n",
    "x.eval()"
   ]
  },
  {
   "cell_type": "code",
   "execution_count": 17,
   "metadata": {},
   "outputs": [
    {
     "data": {
      "text/plain": [
       "array([[0, 2],\n",
       "       [4, 6]], dtype=int32)"
      ]
     },
     "execution_count": 17,
     "metadata": {},
     "output_type": "execute_result"
    }
   ],
   "source": [
    "y = tf.multiply(a,b,name=\"mul\")\n",
    "y.eval()"
   ]
  },
  {
   "cell_type": "code",
   "execution_count": 19,
   "metadata": {},
   "outputs": [
    {
     "data": {
      "text/plain": [
       "array([[ 0.,  0.,  0.],\n",
       "       [ 0.,  0.,  0.]], dtype=float32)"
      ]
     },
     "execution_count": 19,
     "metadata": {},
     "output_type": "execute_result"
    }
   ],
   "source": [
    "# tensors filled with a specific value\n",
    "#tf.zeros(shape,dtype=tf.float32,name=None)\n",
    "tf.zeros([2,3],dtype=tf.float32,name=None)\n",
    "tf.ones([2,3],dtype=tf.float32,name=None)\n",
    "#preferable\n",
    "tf.zeros_like(input_tensor,dtype=None,name=None,optimize=True)\n",
    "tf.ones_like(input_tensor,dtype=None,name=None,optimize=True)"
   ]
  },
  {
   "cell_type": "code",
   "execution_count": 20,
   "metadata": {},
   "outputs": [
    {
     "data": {
      "text/plain": [
       "array([[8, 8, 8],\n",
       "       [8, 8, 8]], dtype=int32)"
      ]
     },
     "execution_count": 20,
     "metadata": {},
     "output_type": "execute_result"
    }
   ],
   "source": [
    "#tf.fill(dims,vale,name=None)\n",
    "tf.fill([2,3],8).eval()"
   ]
  },
  {
   "cell_type": "code",
   "execution_count": 23,
   "metadata": {},
   "outputs": [
    {
     "data": {
      "text/plain": [
       "array([ 10.,  11.,  12.,  13.], dtype=float32)"
      ]
     },
     "execution_count": 23,
     "metadata": {},
     "output_type": "execute_result"
    }
   ],
   "source": [
    "# Constants as sequences\n",
    "#tf.linspace(start,stop,num,name=None)\n",
    "tf.linspace(10.0,13.0,4).eval()"
   ]
  },
  {
   "cell_type": "code",
   "execution_count": 26,
   "metadata": {},
   "outputs": [
    {
     "data": {
      "text/plain": [
       "array([ 3,  7, 11, 15], dtype=int32)"
      ]
     },
     "execution_count": 26,
     "metadata": {},
     "output_type": "execute_result"
    }
   ],
   "source": [
    "#tf.range(start,limit=None,delta=1,dtype=None,name='range')\n",
    "tf.range(3,19,4).eval()"
   ]
  },
  {
   "cell_type": "code",
   "execution_count": 27,
   "metadata": {},
   "outputs": [
    {
     "data": {
      "text/plain": [
       "array([[2, 2],\n",
       "       [3, 3],\n",
       "       [2, 1]], dtype=int32)"
      ]
     },
     "execution_count": 27,
     "metadata": {},
     "output_type": "execute_result"
    }
   ],
   "source": [
    "# Randomly Generated Constants\n",
    "#tf.random_normal(shape,mean=0.0,stddev=1.0,dtype=tf.float32,seed=None,name=None)\n",
    "#tf.truncated_normal\n",
    "#tf.random_uniform\n",
    "#tf.random_shuffle (shuffle only for the first dimension, useful in batch)\n",
    "a =tf.constant([[2,1],[2,2],[3,3]])\n",
    "tf.random_shuffle(a).eval()\n",
    "#tf.multinomial()\n",
    "#tf.random_gamma\n",
    "#tf.set_random_seed(seed)"
   ]
  },
  {
   "cell_type": "code",
   "execution_count": null,
   "metadata": {
    "collapsed": true
   },
   "outputs": [],
   "source": [
    "#from this we could see constant take too much memory\n",
    "my_const = tf.constant([1,2],name=\"my_const\")\n",
    "with tf.Session() as sess:\n",
    "    print(sess.graph.as_graph_def())"
   ]
  },
  {
   "cell_type": "code",
   "execution_count": 38,
   "metadata": {
    "collapsed": true
   },
   "outputs": [],
   "source": [
    "# Varialbes\n",
    "a = tf.Variable(2,name=\"scalar\")\n",
    "b = tf.Variable([2,3],name=\"vector\")\n",
    "# 784*10 tensor, fill with zero\n",
    "c = tf.Variable(tf.zeros([784,10]))"
   ]
  },
  {
   "cell_type": "code",
   "execution_count": 43,
   "metadata": {},
   "outputs": [
    {
     "name": "stdout",
     "output_type": "stream",
     "text": [
      "2\n"
     ]
    }
   ],
   "source": [
    "init = tf.global_variables_initializer()\n",
    "init_ab = tf.variables_initializer([a,b],name=\"init_ab\")\n",
    "with tf.Session() as sess:\n",
    "    sess.run(init)\n",
    "    print(a.eval())"
   ]
  },
  {
   "cell_type": "code",
   "execution_count": 50,
   "metadata": {},
   "outputs": [
    {
     "name": "stdout",
     "output_type": "stream",
     "text": [
      "100\n"
     ]
    }
   ],
   "source": [
    "# you don't need to initialize variable because assign_op did it for you\n",
    "# each session maintains its own copy of varialbe\n",
    "W = tf.Variable(10)\n",
    "assign_op = W.assign(100)\n",
    "with tf.Session() as sess:\n",
    "    sess.run(assign_op)\n",
    "    print(W.eval())"
   ]
  },
  {
   "cell_type": "code",
   "execution_count": 54,
   "metadata": {},
   "outputs": [
    {
     "name": "stdout",
     "output_type": "stream",
     "text": [
      "[ 6.  7.  8.]\n"
     ]
    }
   ],
   "source": [
    "# Placeholders\n",
    "# TF program often has 2 phases: Assemble a graph, Use a session to execute operations in the grapg.\n",
    "# TF could assemble the graph first without knowing the values needed for computatuion\n",
    "#tf.placeholder(dtype,shape=None,name=None)\n",
    "a = tf.placeholder(tf.float32,shape=[3])\n",
    "b = tf.constant([5,5,5],tf.float32)\n",
    "c = a + b\n",
    "\n",
    "with tf.Session() as sess:\n",
    "    #feed [1,2,3] to placeholder a via dict {a:[1,2,3]}\n",
    "    print(sess.run(c,{a:[1,2,3]})) #the tensor a is the key, not str 'a'"
   ]
  },
  {
   "cell_type": "code",
   "execution_count": null,
   "metadata": {
    "collapsed": true
   },
   "outputs": [],
   "source": [
    "# what if want to feed multiple data points in\n",
    "with tf.Session() as sess:\n",
    "    for a_value in list_of_values_for_a:\n",
    "        print(sess.run(c,{a:a_value}))"
   ]
  },
  {
   "cell_type": "code",
   "execution_count": 125,
   "metadata": {},
   "outputs": [
    {
     "name": "stdout",
     "output_type": "stream",
     "text": [
      "25\n"
     ]
    }
   ],
   "source": [
    "# order is important\n",
    "a = tf.add(2,5)\n",
    "c = tf.constant(2)\n",
    "b = tf.multiply(a,c)\n",
    "with tf.Session() as sess:\n",
    "    replace_dict = {a:5,c:5}\n",
    "    print(sess.run(b,feed_dict=replace_dict))"
   ]
  },
  {
   "cell_type": "code",
   "execution_count": 139,
   "metadata": {},
   "outputs": [],
   "source": [
    "x = [3.8148,4.4299,4.8348,4.7097,4.3744,6.2462,6.1928,8.598,10.9355,12.8651,13.241,11.4441,11.4934,11.6549,12.3714,14.9091,15.1472]\n",
    "y = [8.2584,8.1836,9.2867,9.9768,11.0848,11.3224,13.1264,13.2827,15.2794,15.3178,15.466,13.0041,16.4752,15.5564,16.0581,16.7853,15.9257]"
   ]
  },
  {
   "cell_type": "code",
   "execution_count": 183,
   "metadata": {},
   "outputs": [
    {
     "data": {
      "image/png": "[encoded data removed]",
      "text/plain": [
       "<matplotlib.figure.Figure at 0x11c4f6a90>"
      ]
     },
     "metadata": {},
     "output_type": "display_data"
    }
   ],
   "source": [
    "data = [list(a) for a in zip(x, y)]\n",
    "X = tf.placeholder(tf.float32,name=\"X\")\n",
    "Y = tf.placeholder(tf.float32,name=\"Y\")\n",
    "w = tf.Variable(0.0, name = 'weights')\n",
    "b = tf.Variable(0.0, name = 'bias')\n",
    "Y_predict = X * w + b\n",
    "lose = tf.square(Y-Y_predict,name=\"lose\")\n",
    "optimizer = tf.train.GradientDescentOptimizer(learning_rate=0.001).minimize(lose)\n",
    "init = tf.global_variables_initializer()\n",
    "\n",
    "with tf.Session() as sess:\n",
    "    #sess.run(tf.summary.FileWriter(\"./my_linear\",sess.graph))\n",
    "    sess.run(init)\n",
    "    for i in range(50): # train the model 100 times\n",
    "        total_lose=0\n",
    "        #feed_dict={X:train_x,Y:train_y}\n",
    "        for x1,y1 in data:\n",
    "            _,l = sess.run([optimizer,lose],feed_dict={X:x1,Y:y1})\n",
    "            total_lose += l\n",
    "        #print('Epoch {0}:{1}'.format(i,total_lose/17.0))\n",
    "    #writer.close()\n",
    "    \n",
    "    w_value,b_value = sess.run([w,b])\n",
    "\n",
    "import matplotlib.pyplot as plt\n",
    "%matplotlib inline\n",
    "X, Y = x, y\n",
    "plt.plot(X,Y,'bo',label='Real data')\n",
    "plt.plot(X,[x * w_value + b_value for x in X],'r',label='predicted data')\n",
    "plt.legend()\n",
    "plt.show()"
   ]
  },
  {
   "cell_type": "code",
   "execution_count": 193,
   "metadata": {},
   "outputs": [],
   "source": [
    "#Another Version: reduce_mean\n",
    "data = [list(a) for a in zip(x, y)]\n",
    "X = tf.placeholder(tf.float32,name=\"X\")\n",
    "Y = tf.placeholder(tf.float32,name=\"Y\")\n",
    "w = tf.Variable(0.0, name = 'weights')\n",
    "b = tf.Variable(0.0, name = 'bias')\n",
    "Y_predict = X * w + b\n",
    "lose = tf.reduce_mean(tf.square(Y-Y_predict))\n",
    "optimizer = tf.train.GradientDescentOptimizer(learning_rate=0.001).minimize(lose)\n",
    "init = tf.global_variables_initializer()\n",
    "lose_history = np.empty(shape=[1],dtype=float)\n",
    "with tf.Session() as sess:\n",
    "    #sess.run(tf.summary.FileWriter(\"./my_linear\",sess.graph))\n",
    "    sess.run(init)\n",
    "    for i in range(50): # train the model 100 times\n",
    "        total_lose=0\n",
    "        #feed_dict={X:train_x,Y:train_y}\n",
    "\n",
    "        sess.run(optimizer,feed_dict={X:x,Y:y})\n",
    "        lose_history = np.append(lose_history,sess.run(lose,feed_dict={X: x,Y: y}))\n",
    "        #print('Epoch {0}:{1}'.format(i,total_lose/17.0))\n",
    "    #writer.close()\n",
    "    \n",
    "    w_value,b_value = sess.run([w,b])\n",
    "    \n",
    "plt.plot(range(len(lose_history)),lose_history)\n",
    "plt.axis([0,50,0,np.max(lose_history)])\n",
    "plt.show()\n"
   ]
  },
  {
   "cell_type": "code",
   "execution_count": null,
   "metadata": {
    "collapsed": true
   },
   "outputs": [],
   "source": [
    "# Implementing Huber Loss"
   ]
  },
  {
   "cell_type": "code",
   "execution_count": null,
   "metadata": {
    "collapsed": true
   },
   "outputs": [],
   "source": []
  }
 ],
 "metadata": {
  "kernelspec": {
   "display_name": "Python 3",
   "language": "python",
   "name": "python3"
  },
  "language_info": {
   "codemirror_mode": {
    "name": "ipython",
    "version": 3
   },
   "file_extension": ".py",
   "mimetype": "text/x-python",
   "name": "python",
   "nbconvert_exporter": "python",
   "pygments_lexer": "ipython3",
   "version": "3.6.1"
  }
 },
 "nbformat": 4,
 "nbformat_minor": 2
}
