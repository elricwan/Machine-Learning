{
 "cells": [
  {
   "cell_type": "code",
   "execution_count": 1,
   "metadata": {
    "collapsed": false
   },
   "outputs": [],
   "source": [
    "# first, we need decide what we want to keep, what we want to forget. \n",
    "# Second, we need decide what we want to add from new input\n",
    "# finally, we need decide what we want to output\n",
    "import tensorflow as tf\n",
    "#from tensorflow.examples.tutorials.mnist import input_data\n",
    "#mnist = input_data.read_data_sets(\"/tmp/data/\", one_hot = True)"
   ]
  },
  {
   "cell_type": "code",
   "execution_count": 8,
   "metadata": {
    "collapsed": false
   },
   "outputs": [
    {
     "name": "stdout",
     "output_type": "stream",
     "text": [
      "WARNING:tensorflow:From C:\\Users\\wxp\\Anaconda3\\lib\\site-packages\\tensorflow\\python\\util\\tf_should_use.py:175: initialize_all_variables (from tensorflow.python.ops.variables) is deprecated and will be removed after 2017-03-02.\n",
      "Instructions for updating:\n",
      "Use `tf.global_variables_initializer` instead.\n",
      "Epoch 0 completed out of 3 loss: 186.038167968\n",
      "Epoch 1 completed out of 3 loss: 55.517786257\n",
      "Epoch 2 completed out of 3 loss: 38.8526229598\n",
      "Accuracy: 0.9743\n"
     ]
    }
   ],
   "source": [
    "from tensorflow.contrib import rnn\n",
    "\n",
    "hm_epochs = 3\n",
    "n_classes = 10\n",
    "batch_size = 128\n",
    "chunk_size = 28\n",
    "n_chunks = 28\n",
    "run_size =128\n",
    "\n",
    "x = tf.placeholder('float', [None, n_chunks,chunk_size])\n",
    "y = tf.placeholder('float')\n",
    "\n",
    "def recurrent_neural_network(x):\n",
    "    layer = {'weights':tf.Variable(tf.random_normal([rnn_size, n_classes])),\n",
    "                      'biases':tf.Variable(tf.random_normal([1,n_classes]))}\n",
    "\n",
    "    \n",
    "    # if x has shape (1,5,5) at the beginning, then tf.transpose(x,[1,0,2]) make x to be (5,1,5)\n",
    "    # then x has 5 arrays of chunks, each contains 5 elements.\n",
    "    # reshape(x,[-1,chunk_size]) remove 1 pair of exra braces.\n",
    "    # tf.split(0,n_chunks,x) split it to a list of 5 chunks\n",
    "    x = tf.transpose(x,[1,0,2])\n",
    "    x = tf.reshape(x,[-1,chunk_size])\n",
    "    x = tf.split(x,n_chunks,0)\n",
    "    \n",
    "    lstm_cell = rnn.BasicLSTMCell(run_size)\n",
    "    outputs, states = rnn.static_rnn(lstm_cell,x,dtype=tf.float32)\n",
    "    \n",
    "    output = tf.matmul(outputs[-1],layer['weights']) + layer['biases']\n",
    "\n",
    "    return output\n",
    "\n",
    "def train_neural_network(x):\n",
    "    prediction = recurrent_neural_network(x)\n",
    "    cost = tf.reduce_mean( tf.nn.softmax_cross_entropy_with_logits(logits=prediction,labels=y) )\n",
    "    optimizer = tf.train.AdamOptimizer().minimize(cost)\n",
    "    \n",
    "    with tf.Session() as sess:\n",
    "        sess.run(tf.global_variables_initializer())\n",
    "\n",
    "        for epoch in range(hm_epochs):\n",
    "            epoch_loss = 0\n",
    "            for _ in range(int(mnist.train.num_examples/batch_size)):\n",
    "                epoch_x, epoch_y = mnist.train.next_batch(batch_size)\n",
    "                epoch_x = epoch_x.reshape((batch_size,n_chunks,chunk_size))\n",
    "                \n",
    "                _, c = sess.run([optimizer, cost], feed_dict={x: epoch_x, y: epoch_y})\n",
    "                epoch_loss += c\n",
    "\n",
    "            print('Epoch', epoch, 'completed out of',hm_epochs,'loss:',epoch_loss)\n",
    "\n",
    "        correct = tf.equal(tf.argmax(prediction, 1), tf.argmax(y, 1))\n",
    "\n",
    "        accuracy = tf.reduce_mean(tf.cast(correct, 'float'))\n",
    "        print('Accuracy:',accuracy.eval({x:mnist.test.images.reshape((-1,n_chunks,chunk_size)), y:mnist.test.labels}))\n",
    "\n",
    "train_neural_network(x)"
   ]
  },
  {
   "cell_type": "code",
   "execution_count": 68,
   "metadata": {
    "collapsed": true
   },
   "outputs": [],
   "source": [
    "from __future__ import print_function, division\n",
    "import numpy as np\n",
    "import tensorflow as tf\n",
    "import matplotlib.pyplot as plt\n",
    "\n",
    "# set up\n",
    "num_epochs = 10 # trainning steps\n",
    "total_series_length = 50000 # reshape it to 5 * 10000\n",
    "truncated_backprop_length = 15 # numbers of input for one row per time step\n",
    "state_size = 4\n",
    "num_classes = 2 # output is 0 or 1\n",
    "echo_step = 3 # y lag 3 to x\n",
    "batch_size = 5 # rows of input for one time step\n",
    "num_batches = total_series_length//batch_size//truncated_backprop_length"
   ]
  },
  {
   "cell_type": "code",
   "execution_count": 6,
   "metadata": {
    "collapsed": true
   },
   "outputs": [],
   "source": [
    "# Generate data\n",
    "def generateData():\n",
    "    x = np.array(np.random.choice(2, total_series_length, p=[0.5, 0.5]))\n",
    "    y = np.roll(x, echo_step)\n",
    "    y[0:echo_step] = 0\n",
    "    x = x.reshape((batch_size, -1))  # The first index changing slowest, subseries as rows\n",
    "    y = y.reshape((batch_size, -1))\n",
    "    return (x, y)"
   ]
  },
  {
   "cell_type": "code",
   "execution_count": 19,
   "metadata": {
    "collapsed": false
   },
   "outputs": [],
   "source": [
    "batchX_placeholder = tf.placeholder(tf.float32, [batch_size, truncated_backprop_length])\n",
    "batchY_placeholder = tf.placeholder(tf.int32, [batch_size, truncated_backprop_length])\n",
    "\n",
    "init_state = tf.placeholder(tf.float32, [batch_size, state_size])\n",
    "\n",
    "W = tf.Variable(np.random.rand(state_size+1, state_size), dtype=tf.float32)\n",
    "b = tf.Variable(np.zeros((1,state_size)), dtype=tf.float32)\n",
    "\n",
    "W2 = tf.Variable(np.random.rand(state_size, num_classes),dtype=tf.float32)\n",
    "b2 = tf.Variable(np.zeros((1,num_classes)), dtype=tf.float32)\n",
    "\n",
    "# unpacking, the RNN will simultaneously be training on different parts in the time-series\n",
    "inputs_series = tf.unstack(batchX_placeholder, axis=1)\n",
    "labels_series = tf.unstack(batchY_placeholder, axis=1)"
   ]
  },
  {
   "cell_type": "code",
   "execution_count": 59,
   "metadata": {
    "collapsed": false
   },
   "outputs": [
    {
     "data": {
      "text/plain": [
       "array([[0, 0, 1, 1, 0, 0, 1, 0, 1, 0, 1, 0, 0, 1, 0],\n",
       "       [0, 0, 0, 0, 0, 0, 1, 0, 1, 1, 1, 0, 1, 0, 0],\n",
       "       [0, 1, 1, 0, 1, 0, 0, 0, 0, 0, 1, 0, 0, 1, 1],\n",
       "       [1, 1, 1, 1, 0, 0, 0, 0, 0, 1, 1, 1, 0, 0, 0],\n",
       "       [1, 1, 0, 1, 0, 1, 1, 0, 0, 1, 1, 0, 0, 1, 0]], dtype=int64)"
      ]
     },
     "execution_count": 59,
     "metadata": {},
     "output_type": "execute_result"
    }
   ],
   "source": [
    "# one batchX\n",
    "x[:, :15]"
   ]
  },
  {
   "cell_type": "code",
   "execution_count": 60,
   "metadata": {
    "collapsed": false
   },
   "outputs": [
    {
     "data": {
      "text/plain": [
       "[<tf.Tensor 'unstack_6:0' shape=(5,) dtype=int64>,\n",
       " <tf.Tensor 'unstack_6:1' shape=(5,) dtype=int64>,\n",
       " <tf.Tensor 'unstack_6:2' shape=(5,) dtype=int64>,\n",
       " <tf.Tensor 'unstack_6:3' shape=(5,) dtype=int64>,\n",
       " <tf.Tensor 'unstack_6:4' shape=(5,) dtype=int64>,\n",
       " <tf.Tensor 'unstack_6:5' shape=(5,) dtype=int64>,\n",
       " <tf.Tensor 'unstack_6:6' shape=(5,) dtype=int64>,\n",
       " <tf.Tensor 'unstack_6:7' shape=(5,) dtype=int64>,\n",
       " <tf.Tensor 'unstack_6:8' shape=(5,) dtype=int64>,\n",
       " <tf.Tensor 'unstack_6:9' shape=(5,) dtype=int64>,\n",
       " <tf.Tensor 'unstack_6:10' shape=(5,) dtype=int64>,\n",
       " <tf.Tensor 'unstack_6:11' shape=(5,) dtype=int64>,\n",
       " <tf.Tensor 'unstack_6:12' shape=(5,) dtype=int64>,\n",
       " <tf.Tensor 'unstack_6:13' shape=(5,) dtype=int64>,\n",
       " <tf.Tensor 'unstack_6:14' shape=(5,) dtype=int64>]"
      ]
     },
     "execution_count": 60,
     "metadata": {},
     "output_type": "execute_result"
    }
   ],
   "source": [
    "# Better explannation\n",
    "a = tf.unstack(x[:, :15],axis=1)\n",
    "a"
   ]
  },
  {
   "cell_type": "code",
   "execution_count": 61,
   "metadata": {
    "collapsed": false
   },
   "outputs": [
    {
     "data": {
      "text/plain": [
       "<tf.Tensor 'Reshape_1:0' shape=(5, 1) dtype=int64>"
      ]
     },
     "execution_count": 61,
     "metadata": {},
     "output_type": "execute_result"
    }
   ],
   "source": [
    "# current input\n",
    "tf.reshape(a[0],[5,1])"
   ]
  },
  {
   "cell_type": "code",
   "execution_count": 63,
   "metadata": {
    "collapsed": false
   },
   "outputs": [],
   "source": [
    "# Forward pass\n",
    "# When a RNN is trained, it is actually treated as a deep neural network with \n",
    "# reoccurring weights in every layer. These layers will not be unrolled to the beginning of time, \n",
    "# that would be too computationally expensive, and are therefore truncated at a limited number of \n",
    "# time-steps, and that is truncated_backprop_length\n",
    "current_state = init_state\n",
    "states_series = []\n",
    "\n",
    "for current_input in inputs_series:\n",
    "    current_input = tf.reshape(current_input, [batch_size, 1])\n",
    "     # Increasing number of columns\n",
    "    input_and_state_concatenated = tf.concat(axis=1, values=[current_input, current_state]) \n",
    "     # Broadcasted addition\n",
    "    next_state = tf.tanh(tf.matmul(input_and_state_concatenated, W) + b) \n",
    "    states_series.append(next_state)\n",
    "    current_state = next_state\n",
    "    \n",
    "# truncated_backprop_length need to be significantly larger than the time dependencies (three steps in our case)\n",
    "\n",
    "\n",
    "#####  simplify code!\n",
    "# Unpack columns\n",
    "\n",
    "#inputs_series = tf.split(1, truncated_backprop_length, batchX_placeholder)\n",
    "#labels_series = tf.unpack(batchY_placeholder, axis=1)\n",
    "# Forward passes\n",
    "#cell = tf.nn.rnn_cell.BasicRNNCell(state_size)\n",
    "#states_series, current_state = tf.nn.rnn(cell, inputs_series, init_state)"
   ]
  },
  {
   "cell_type": "code",
   "execution_count": 65,
   "metadata": {
    "collapsed": false
   },
   "outputs": [],
   "source": [
    "# calculating the loss\n",
    "#Broadcasted addition\n",
    "logits_series = [tf.matmul(state, W2) + b2 for state in states_series] \n",
    "predictions_series = [tf.nn.softmax(logits) for logits in logits_series]\n",
    "\n",
    "losses = [tf.nn.sparse_softmax_cross_entropy_with_logits(logits=logits, labels=labels) for logits, labels in zip(logits_series,labels_series)]\n",
    "total_loss = tf.reduce_mean(losses)\n",
    "\n",
    "\n",
    "train_step = tf.train.AdagradOptimizer(0.3).minimize(total_loss)"
   ]
  },
  {
   "cell_type": "code",
   "execution_count": 66,
   "metadata": {
    "collapsed": true
   },
   "outputs": [],
   "source": [
    "# visualize the trainning process\n",
    "def plot(loss_list, predictions_series, batchX, batchY):\n",
    "\n",
    "    plt.subplot(2, 3, 1)\n",
    "    plt.cla()\n",
    "    plt.plot(loss_list)\n",
    "\n",
    "    for batch_series_idx in range(5):\n",
    "        one_hot_output_series = np.array(predictions_series)[:, batch_series_idx, :]\n",
    "        single_output_series = np.array([(1 if out[0] < 0.5 else 0) for out in one_hot_output_series])\n",
    "        plt.subplot(2, 3, batch_series_idx + 2)\n",
    "        plt.cla()\n",
    "        plt.axis([0, truncated_backprop_length, 0, 2])\n",
    "        left_offset = range(truncated_backprop_length)\n",
    "        plt.bar(left_offset, batchX[batch_series_idx, :], width=1, color=\"blue\")\n",
    "        plt.bar(left_offset, batchY[batch_series_idx, :] * 0.5, width=1, color=\"red\")\n",
    "        plt.bar(left_offset, single_output_series * 0.3, width=1, color=\"green\")\n",
    "\n",
    "\n",
    "    plt.draw()\n",
    "    plt.pause(0.0001)"
   ]
  },
  {
   "cell_type": "code",
   "execution_count": 69,
   "metadata": {
    "collapsed": false
   },
   "outputs": [
    {
     "data": {
      "text/plain": [
       "<matplotlib.figure.Figure at 0x26a0c200278>"
      ]
     },
     "metadata": {},
     "output_type": "display_data"
    },
    {
     "name": "stdout",
     "output_type": "stream",
     "text": [
      "New data, epoch 0\n",
      "Step 0 Loss 0.793846\n",
      "Step 100 Loss 0.0607578\n",
      "Step 200 Loss 0.00631502\n",
      "Step 300 Loss 0.00358661\n",
      "Step 400 Loss 0.00262082\n",
      "Step 500 Loss 0.00195743\n",
      "Step 600 Loss 0.00159739\n",
      "New data, epoch 1\n",
      "Step 0 Loss 0.147204\n",
      "Step 100 Loss 0.0012323\n",
      "Step 200 Loss 0.00105019\n",
      "Step 300 Loss 0.000930663\n",
      "Step 400 Loss 0.000737937\n",
      "Step 500 Loss 0.000657555\n",
      "Step 600 Loss 0.00069325\n",
      "New data, epoch 2\n",
      "Step 0 Loss 0.166215\n",
      "Step 100 Loss 0.0011348\n",
      "Step 200 Loss 0.000972635\n",
      "Step 300 Loss 0.000843332\n",
      "Step 400 Loss 0.000832252\n",
      "Step 500 Loss 0.000697893\n",
      "Step 600 Loss 0.000608702\n",
      "New data, epoch 3\n",
      "Step 0 Loss 0.219808\n",
      "Step 100 Loss 0.000565318\n",
      "Step 200 Loss 0.000605154\n",
      "Step 300 Loss 0.000534327\n",
      "Step 400 Loss 0.000465908\n",
      "Step 500 Loss 0.000426395\n",
      "Step 600 Loss 0.00041094\n",
      "New data, epoch 4\n",
      "Step 0 Loss 0.254411\n",
      "Step 100 Loss 0.000420033\n",
      "Step 200 Loss 0.000343719\n",
      "Step 300 Loss 0.000345017\n",
      "Step 400 Loss 0.000384078\n",
      "Step 500 Loss 0.000348114\n",
      "Step 600 Loss 0.000339532\n",
      "New data, epoch 5\n",
      "Step 0 Loss 0.168572\n",
      "Step 100 Loss 0.000406926\n",
      "Step 200 Loss 0.000359507\n",
      "Step 300 Loss 0.000362682\n",
      "Step 400 Loss 0.000320439\n",
      "Step 500 Loss 0.000302516\n",
      "Step 600 Loss 0.000313652\n",
      "New data, epoch 6\n",
      "Step 0 Loss 0.377981\n",
      "Step 100 Loss 0.000235514\n",
      "Step 200 Loss 0.000239661\n",
      "Step 300 Loss 0.000237249\n",
      "Step 400 Loss 0.000216104\n",
      "Step 500 Loss 0.000234735\n",
      "Step 600 Loss 0.000230943\n",
      "New data, epoch 7\n",
      "Step 0 Loss 0.209199\n",
      "Step 100 Loss 0.000253945\n",
      "Step 200 Loss 0.000231506\n",
      "Step 300 Loss 0.000233668\n",
      "Step 400 Loss 0.000193147\n",
      "Step 500 Loss 0.000200341\n",
      "Step 600 Loss 0.000192904\n",
      "New data, epoch 8\n",
      "Step 0 Loss 0.15199\n",
      "Step 100 Loss 0.000190528\n",
      "Step 200 Loss 0.000202891\n",
      "Step 300 Loss 0.000185276\n",
      "Step 400 Loss 0.000190656\n",
      "Step 500 Loss 0.000186517\n",
      "Step 600 Loss 0.000172386\n",
      "New data, epoch 9\n",
      "Step 0 Loss 0.340039\n",
      "Step 100 Loss 0.000172035\n",
      "Step 200 Loss 0.000157318\n",
      "Step 300 Loss 0.000165133\n",
      "Step 400 Loss 0.000147069\n",
      "Step 500 Loss 0.000156881\n",
      "Step 600 Loss 0.000151139\n"
     ]
    },
    {
     "data": {
      "image/png": "[encoded data removed]",
      "text/plain": [
       "<matplotlib.figure.Figure at 0x26a0bfc3470>"
      ]
     },
     "metadata": {},
     "output_type": "display_data"
    }
   ],
   "source": [
    "# Running a training session\n",
    "with tf.Session() as sess:\n",
    "\n",
    "    sess.run(tf.global_variables_initializer())\n",
    "    plt.ion()\n",
    "    plt.figure()\n",
    "    plt.show()\n",
    "    loss_list = []\n",
    "\n",
    "\n",
    "    for epoch_idx in range(num_epochs):\n",
    "        x,y = generateData()\n",
    "        _current_state = np.zeros((batch_size, state_size))\n",
    "        print(\"New data, epoch\", epoch_idx)\n",
    "\n",
    "        for batch_idx in range(num_batches):\n",
    "            start_idx = batch_idx * truncated_backprop_length\n",
    "            end_idx = start_idx + truncated_backprop_length\n",
    "\n",
    "            batchX = x[:,start_idx:end_idx]\n",
    "            batchY = y[:,start_idx:end_idx]\n",
    "\n",
    "            _total_loss, _train_step, _current_state, _predictions_series = sess.run(\n",
    "                [total_loss, train_step, current_state, predictions_series],\n",
    "                feed_dict={\n",
    "                    batchX_placeholder:batchX,\n",
    "                    batchY_placeholder:batchY,\n",
    "                    init_state:_current_state\n",
    "                })\n",
    "\n",
    "            loss_list.append(_total_loss)\n",
    "\n",
    "            if batch_idx%100 == 0:\n",
    "                print(\"Step\",batch_idx, \"Loss\", _total_loss)\n",
    "                plot(loss_list, _predictions_series, batchX, batchY)\n",
    "\n",
    "plt.ioff()\n",
    "plt.show()"
   ]
  },
  {
   "cell_type": "code",
   "execution_count": null,
   "metadata": {
    "collapsed": true
   },
   "outputs": [],
   "source": []
  }
 ],
 "metadata": {
  "kernelspec": {
   "display_name": "Python 3",
   "language": "python",
   "name": "python3"
  },
  "language_info": {
   "codemirror_mode": {
    "name": "ipython",
    "version": 3
   },
   "file_extension": ".py",
   "mimetype": "text/x-python",
   "name": "python",
   "nbconvert_exporter": "python",
   "pygments_lexer": "ipython3",
   "version": "3.6.0"
  }
 },
 "nbformat": 4,
 "nbformat_minor": 2
}
