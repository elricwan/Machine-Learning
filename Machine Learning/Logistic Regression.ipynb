{
 "cells": [
  {
   "cell_type": "code",
   "execution_count": 1,
   "metadata": {
    "collapsed": true
   },
   "outputs": [],
   "source": [
    "import tensorflow as tf"
   ]
  },
  {
   "cell_type": "code",
   "execution_count": 2,
   "metadata": {
    "collapsed": true
   },
   "outputs": [],
   "source": [
    "# Huber loss: Robust to outliers\n",
    "def huber_loss(labels,predictions,delta=1.0):\n",
    "    residual = tf.abs(prediction - labels)\n",
    "    condition = tf.less(residual,delta)\n",
    "    small_res = 0.5 * tf.square(residual)\n",
    "    large_res = delta * residual - 0.5 * tf.square(delta)\n",
    "    return tf.select(condition, samll_res, large_res)"
   ]
  },
  {
   "cell_type": "code",
   "execution_count": 2,
   "metadata": {
    "collapsed": false
   },
   "outputs": [
    {
     "name": "stdout",
     "output_type": "stream",
     "text": [
      "Successfully downloaded train-images-idx3-ubyte.gz 9912422 bytes.\n",
      "Extracting MNIST_data/train-images-idx3-ubyte.gz\n",
      "Successfully downloaded train-labels-idx1-ubyte.gz 28881 bytes.\n",
      "Extracting MNIST_data/train-labels-idx1-ubyte.gz\n",
      "Successfully downloaded t10k-images-idx3-ubyte.gz 1648877 bytes.\n",
      "Extracting MNIST_data/t10k-images-idx3-ubyte.gz\n",
      "Successfully downloaded t10k-labels-idx1-ubyte.gz 4542 bytes.\n",
      "Extracting MNIST_data/t10k-labels-idx1-ubyte.gz\n"
     ]
    }
   ],
   "source": [
    "# logistic regression\n",
    "# MNIST Database\n",
    "# logits = X * w + b, Y_predicted = softmax(logits), loss = cross_entropy(Y, Y_predicted)\n",
    "# Batch them up!!!\n",
    "learning_rate = 0.01\n",
    "batch_size = 128\n",
    "n_epochs = 30\n",
    "\n",
    "from tensorflow.examples.tutorials.mnist import input_data\n",
    "mnist = input_data.read_data_sets(\"MNIST_data/\", one_hot=True)\n",
    "\n",
    "X = tf.placeholder(tf.float32,[batch_size,784],name=\"image\")\n",
    "Y = tf.placeholder(tf.float32,[batch_size,10],name=\"label\")"
   ]
  },
  {
   "cell_type": "code",
   "execution_count": 16,
   "metadata": {
    "collapsed": false
   },
   "outputs": [
    {
     "name": "stdout",
     "output_type": "stream",
     "text": [
      "Average loss epoch 0: 1.288614780058116\n",
      "Average loss epoch 1: 0.7321287525561584\n",
      "Average loss epoch 2: 0.5990042393302029\n",
      "Average loss epoch 3: 0.5358560870299528\n",
      "Average loss epoch 4: 0.49729369757892367\n",
      "Average loss epoch 5: 0.4703630122132513\n",
      "Average loss epoch 6: 0.45180987401719974\n",
      "Average loss epoch 7: 0.4344715336402813\n",
      "Average loss epoch 8: 0.4230245681075783\n",
      "Average loss epoch 9: 0.4147163439880718\n",
      "Average loss epoch 10: 0.40201089105683885\n",
      "Average loss epoch 11: 0.39903330747342053\n",
      "Average loss epoch 12: 0.39047330336554065\n",
      "Average loss epoch 13: 0.38301682312449653\n",
      "Average loss epoch 14: 0.3783457083649291\n",
      "Average loss epoch 15: 0.37345087490020656\n",
      "Average loss epoch 16: 0.3694598871719587\n",
      "Average loss epoch 17: 0.36933862707970583\n",
      "Average loss epoch 18: 0.36019824785647137\n",
      "Average loss epoch 19: 0.3616117585650135\n",
      "Average loss epoch 20: 0.3555428270415548\n",
      "Average loss epoch 21: 0.3522934715300451\n",
      "Average loss epoch 22: 0.35303924255298846\n",
      "Average loss epoch 23: 0.3477310033944937\n",
      "Average loss epoch 24: 0.3444971726699309\n",
      "Average loss epoch 25: 0.34525123992305257\n",
      "Average loss epoch 26: 0.3435630189094232\n",
      "Average loss epoch 27: 0.339140908944579\n",
      "Average loss epoch 28: 0.3401318865986693\n",
      "Average loss epoch 29: 0.33576777403727\n",
      "Total time: 15.884487867355347 seconds\n",
      "Optimization Finished!\n",
      "Accuracy 0.9118\n"
     ]
    }
   ],
   "source": [
    "import time\n",
    "w = tf.Variable(tf.random_normal(shape=[784,10],stddev=0.01),name = 'weights')\n",
    "b = tf.Variable(tf.zeros([1,10]),name=\"bias\")\n",
    "logits = tf.matmul(X,w) + b\n",
    "# define loss function\n",
    "entropy = tf.nn.softmax_cross_entropy_with_logits(logits=logits,labels=Y,name='loss')\n",
    "loss = tf.reduce_mean(entropy) #computes the mean over all the examples in the batch\n",
    "\n",
    "#define training op\n",
    "optimizer = tf.train.GradientDescentOptimizer(learning_rate).minimize(loss)\n",
    "\n",
    "with tf.Session() as sess:\n",
    "    # to visualize\n",
    "    #writer = tf.summary.FileWriter('logistic_reg',sess.graph)\n",
    "    start_time=time.time()\n",
    "    sess.run(tf.global_variables_initializer())\n",
    "    n_batches = int(mnist.train.num_examples/batch_size)\n",
    "    for i in range(n_epochs):\n",
    "        total_loss = 0\n",
    "        for _ in range(n_batches):\n",
    "            X_batch,Y_batch = mnist.train.next_batch(batch_size)\n",
    "            _, loss_batch = sess.run([optimizer,loss],feed_dict = {X:X_batch, Y:Y_batch})\n",
    "            total_loss += loss_batch\n",
    "        print('Average loss epoch {0}: {1}'.format(i, total_loss/n_batches))\n",
    "    print('Total time: {0} seconds'.format(time.time() - start_time))\n",
    "\n",
    "    print('Optimization Finished!') # should be around 0.35 after 25 epochs\n",
    "    \n",
    "    # test the model\n",
    "\n",
    "    preds = tf.nn.softmax(logits)\n",
    "    correct_preds = tf.equal(tf.argmax(preds, 1), tf.argmax(Y, 1))\n",
    "    accuracy = tf.reduce_sum(tf.cast(correct_preds, tf.float32)) # need numpy.count_nonzero(boolarr) \n",
    "\n",
    "    n_batches = int(mnist.test.num_examples/batch_size)\n",
    "    total_correct_preds = 0\n",
    "\n",
    "    for i in range(n_batches):\n",
    "        X_batch, Y_batch = mnist.test.next_batch(batch_size)\n",
    "        accuracy_batch = sess.run(accuracy, feed_dict={X: X_batch, Y:Y_batch}) \n",
    "        total_correct_preds += accuracy_batch\n",
    "\n",
    "    print('Accuracy {0}'.format(total_correct_preds/mnist.test.num_examples))\n",
    "\n",
    "    #writer.close()"
   ]
  },
  {
   "cell_type": "code",
   "execution_count": 120,
   "metadata": {
    "collapsed": false
   },
   "outputs": [],
   "source": [
    "import numpy as np\n",
    "pre = np.array([[31, 23,  4, 24, 27, 34],\n",
    "                [18,  3, 25,  0,  6, 35],\n",
    "                [28, 14, 33, 22, 20,  8],\n",
    "                [13, 30, 21, 19,  7,  9],\n",
    "                [16,  1, 26, 32,  2, 29],\n",
    "                [17, 12,  5, 11, 10, 15]])\n",
    "\n",
    "pre1 = np.array([[31, 23,  4, 24, 27, 34],\n",
    "                [16,  1, 26, 32,  2, 29]])\n",
    "\n",
    "pre2 = np.array([[17, 12,  5, 11, 10, 15]])\n",
    "\n",
    "pre3 = np.array([[0.1,0.7,30,13]])\n",
    "\n",
    "y = np.array([[31, 23,  4, 24, 27, 34],\n",
    "                [18,  3, 25,  0,  6, 35],\n",
    "                [28, 14, 33, 22, 20,  8],\n",
    "                [13, 30, 21, 19,  7,  9],\n",
    "                [16,  1, 26, 32,  2, 29],\n",
    "                [1, 2,  5, 11, 10, 15]])\n",
    "a = tf.argmax(pre,1)\n",
    "b = tf.argmax(pre1,0) # transpose the data\n",
    "c = tf.argmax(pre2,1) # see the data through row.\n",
    "d = tf.argmax(pre3,1)\n",
    "e = tf.argmax(y,1)\n",
    "f = tf.argmax(pre,0)"
   ]
  },
  {
   "cell_type": "code",
   "execution_count": 122,
   "metadata": {
    "collapsed": false
   },
   "outputs": [
    {
     "data": {
      "text/plain": [
       "array([0, 0, 1, 1, 0, 0], dtype=int64)"
      ]
     },
     "execution_count": 122,
     "metadata": {},
     "output_type": "execute_result"
    }
   ],
   "source": [
    "# tf.argmax(,1) returns the location of the largest value,[31, 23,  4, 24, 27, 34]\n",
    "# 34 is the 5th number in python.\n",
    "# tf.argmax(,0) transpose the input data\n",
    "tf.InteractiveSession()\n",
    "b.eval()"
   ]
  },
  {
   "cell_type": "code",
   "execution_count": 93,
   "metadata": {
    "collapsed": false
   },
   "outputs": [
    {
     "data": {
      "text/plain": [
       "5.0"
      ]
     },
     "execution_count": 93,
     "metadata": {},
     "output_type": "execute_result"
    }
   ],
   "source": [
    "aaa= tf.equal(a,e).eval()\n",
    "tf.cast(aaa, tf.float32).eval()\n",
    "tf.reduce_sum(tf.cast(aaa, tf.float32)).eval()"
   ]
  }
 ],
 "metadata": {
  "kernelspec": {
   "display_name": "Python 3",
   "language": "python",
   "name": "python3"
  },
  "language_info": {
   "codemirror_mode": {
    "name": "ipython",
    "version": 3
   },
   "file_extension": ".py",
   "mimetype": "text/x-python",
   "name": "python",
   "nbconvert_exporter": "python",
   "pygments_lexer": "ipython3",
   "version": "3.6.0"
  }
 },
 "nbformat": 4,
 "nbformat_minor": 2
}
